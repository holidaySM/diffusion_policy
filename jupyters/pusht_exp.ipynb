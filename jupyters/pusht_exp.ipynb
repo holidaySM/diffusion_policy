{
 "cells": [
  {
   "cell_type": "code",
   "execution_count": 13,
   "id": "initial_id",
   "metadata": {},
   "outputs": [
    {
     "name": "stderr",
     "output_type": "stream",
     "text": [
      "/home/sm/anaconda3/envs/diffusion_policy/lib/python3.9/site-packages/tqdm/auto.py:22: TqdmWarning: IProgress not found. Please update jupyter and ipywidgets. See https://ipywidgets.readthedocs.io/en/stable/user_install.html\n",
      "  from .autonotebook import tqdm as notebook_tqdm\n"
     ]
    }
   ],
   "source": [
    "import sys\n",
    "sys.path.append('..')\n",
    "\n",
    "import torch\n",
    "import numpy as np\n",
    "\n",
    "from IPython import display\n",
    "import matplotlib\n",
    "import matplotlib.pyplot as plt\n",
    "\n",
    "from diffusion_policy.env.pusht.pusht_env import PushTEnv\n",
    "from diffusion_policy.env.pusht.pusht_image_env import PushTImageEnv"
   ]
  },
  {
   "cell_type": "code",
   "execution_count": 4,
   "id": "f5af5aec-3a69-40ea-a7bd-1d3cf2ff87bc",
   "metadata": {},
   "outputs": [],
   "source": [
    "env = PushTImageEnv()"
   ]
  },
  {
   "cell_type": "code",
   "execution_count": 12,
   "id": "c57264c4-5f0d-4e27-8f17-1af0c73da826",
   "metadata": {},
   "outputs": [
    {
     "name": "stdout",
     "output_type": "stream",
     "text": [
      "['agent_pos', 'image']\n",
      "(2,)\n",
      "(3, 96, 96)\n",
      "Box([0. 0.], [512. 512.], (2,), float64)\n"
     ]
    }
   ],
   "source": [
    "print(list(env.observation_space.keys()))\n",
    "print(env.observation_space['agent_pos'].shape)\n",
    "print(env.observation_space['image'].shape)\n",
    "\n",
    "print(env.action_space)"
   ]
  },
  {
   "cell_type": "code",
   "execution_count": null,
   "id": "5de03741-0612-447e-bd59-bb12917381b8",
   "metadata": {},
   "outputs": [
    {
     "data": {
      "image/png": "[encoded data removed]",
      "text/plain": [
       "<Figure size 640x480 with 1 Axes>"
      ]
     },
     "metadata": {},
     "output_type": "display_data"
    }
   ],
   "source": [
    "mode='rgb_array'\n",
    "\n",
    "observation, _ = env.reset()\n",
    "img = plt.imshow(env.render(mode))\n",
    "episode_reward = 0\n",
    "episode_steps = 0\n",
    "done = False\n",
    "while not done:\n",
    "    img.set_data(env.render(mode))\n",
    "    display.display(plt.gcf())\n",
    "    display.clear_output(wait=True)\n",
    "    action = env.action_space.sample()\n",
    "\n",
    "    next_observation, reward, terminated, info = env.step(action)\n",
    "    episode_reward += reward\n",
    "\n",
    "    done = terminated\n",
    "    episode_steps += 1\n",
    "    observation = next_observation\n",
    "print(episode_reward)"
   ]
  },
  {
   "cell_type": "code",
   "execution_count": null,
   "id": "afad25be-365f-414e-85b0-115a17c0579a",
   "metadata": {},
   "outputs": [],
   "source": []
  }
 ],
 "metadata": {
  "kernelspec": {
   "display_name": "Python 3 (ipykernel)",
   "language": "python",
   "name": "python3"
  },
  "language_info": {
   "codemirror_mode": {
    "name": "ipython",
    "version": 3
   },
   "file_extension": ".py",
   "mimetype": "text/x-python",
   "name": "python",
   "nbconvert_exporter": "python",
   "pygments_lexer": "ipython3",
   "version": "3.9.19"
  }
 },
 "nbformat": 4,
 "nbformat_minor": 5
}
