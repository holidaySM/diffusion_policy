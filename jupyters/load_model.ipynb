{
 "cells": [
  {
   "cell_type": "code",
   "execution_count": 2,
   "id": "68797962-72a0-46ba-aa97-291a659693fd",
   "metadata": {},
   "outputs": [],
   "source": [
    "import sys\n",
    "sys.path.append('..')\n",
    "\n",
    "%load_ext autoreload\n",
    "%autoreload 2\n",
    "\n",
    "import torch\n",
    "import numpy as np\n",
    "\n",
    "from IPython import display\n",
    "import matplotlib\n",
    "import matplotlib.pyplot as plt\n",
    "\n",
    "from diffusion_policy.env.pusht.pusht_env import PushTEnv\n",
    "from diffusion_policy.env.pusht.pusht_image_env import PushTImageEnv\n",
    "from diffusion_policy.policy.diffusion_unet_hybrid_image_policy import DiffusionUnetHybridImagePolicy"
   ]
  },
  {
   "cell_type": "code",
   "execution_count": 3,
   "id": "8537fa1c-6f60-4270-b352-a845cc68511a",
   "metadata": {},
   "outputs": [],
   "source": [
    "import hydra\n",
    "from omegaconf import DictConfig, OmegaConf\n",
    "from hydra import initialize, compose"
   ]
  },
  {
   "cell_type": "code",
   "execution_count": 6,
   "id": "42bdaf4a-c556-4feb-8a16-694227f37ea5",
   "metadata": {},
   "outputs": [
    {
     "name": "stdout",
     "output_type": "stream",
     "text": [
      "_target_: diffusion_policy.policy.diffusion_unet_hybrid_image_policy.DiffusionUnetHybridImagePolicy\n",
      "cond_predict_scale: true\n",
      "crop_shape:\n",
      "- 84\n",
      "- 84\n",
      "diffusion_step_embed_dim: 128\n",
      "down_dims:\n",
      "- 512\n",
      "- 1024\n",
      "- 2048\n",
      "eval_fixed_crop: true\n",
      "horizon: 16\n",
      "kernel_size: 5\n",
      "n_action_steps: 8\n",
      "n_groups: 8\n",
      "n_obs_steps: 2\n",
      "noise_scheduler:\n",
      "  _target_: diffusers.schedulers.scheduling_ddpm.DDPMScheduler\n",
      "  beta_end: 0.02\n",
      "  beta_schedule: squaredcos_cap_v2\n",
      "  beta_start: 0.0001\n",
      "  clip_sample: true\n",
      "  num_train_timesteps: 100\n",
      "  prediction_type: epsilon\n",
      "  variance_type: fixed_small\n",
      "num_inference_steps: 100\n",
      "obs_as_global_cond: true\n",
      "obs_encoder_group_norm: true\n",
      "shape_meta:\n",
      "  action:\n",
      "    shape:\n",
      "    - 2\n",
      "  obs:\n",
      "    agent_pos:\n",
      "      shape:\n",
      "      - 2\n",
      "      type: low_dim\n",
      "    image:\n",
      "      shape:\n",
      "      - 3\n",
      "      - 96\n",
      "      - 96\n",
      "      type: rgb\n",
      "\n"
     ]
    },
    {
     "name": "stderr",
     "output_type": "stream",
     "text": [
      "/var/folders/5w/fh7c8b_95q30j7l32bdysf4w0000gn/T/ipykernel_24402/984899090.py:3: UserWarning: \n",
      "The version_base parameter is not specified.\n",
      "Please specify a compatability version level, or None.\n",
      "Will assume defaults for version 1.1\n",
      "  with initialize(config_path=config_path, job_name=\"jupyter_notebook\"):\n"
     ]
    }
   ],
   "source": [
    "config_path = '../data/experiments/image/pusht/diffusion_policy_cnn'\n",
    "config_name = 'config'\n",
    "with initialize(config_path=config_path, job_name=\"jupyter_notebook\"):\n",
    "    config = compose(config_name=config_name)\n",
    "\n",
    "print(OmegaConf.to_yaml(config['policy']))"
   ]
  },
  {
   "cell_type": "code",
   "execution_count": 14,
   "id": "ef588a6d-14ec-442d-a741-3dd52281111a",
   "metadata": {},
   "outputs": [
    {
     "name": "stdout",
     "output_type": "stream",
     "text": [
      "\n",
      "============= Initialized Observation Utils with Obs Spec =============\n",
      "\n",
      "using obs modality: low_dim with keys: ['agent_pos']\n",
      "using obs modality: rgb with keys: ['image']\n",
      "using obs modality: depth with keys: []\n",
      "using obs modality: scan with keys: []\n",
      "Diffusion params: 2.515119e+08\n",
      "Vision params: 1.119709e+07\n"
     ]
    }
   ],
   "source": [
    "model: DiffusionUnetHybridImagePolicy = hydra.utils.instantiate(config.policy)"
   ]
  },
  {
   "cell_type": "code",
   "execution_count": null,
   "id": "cbf2747c-34ac-4740-9921-1e8a20b21ce0",
   "metadata": {},
   "outputs": [],
   "source": []
  }
 ],
 "metadata": {
  "kernelspec": {
   "display_name": "Python 3 (ipykernel)",
   "language": "python",
   "name": "python3"
  },
  "language_info": {
   "codemirror_mode": {
    "name": "ipython",
    "version": 3
   },
   "file_extension": ".py",
   "mimetype": "text/x-python",
   "name": "python",
   "nbconvert_exporter": "python",
   "pygments_lexer": "ipython3",
   "version": "3.9.19"
  }
 },
 "nbformat": 4,
 "nbformat_minor": 5
}
