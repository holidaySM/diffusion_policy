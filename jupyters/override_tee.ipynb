{
 "cells": [
  {
   "cell_type": "code",
   "execution_count": 9,
   "id": "65559de6-0cf0-401a-adcb-283a24293999",
   "metadata": {},
   "outputs": [],
   "source": [
    "import sys\n",
    "sys.path.append('..')\n",
    "\n",
    "import torch\n",
    "import numpy as np\n",
    "\n",
    "from IPython import display\n",
    "import matplotlib\n",
    "import matplotlib.pyplot as plt\n",
    "\n",
    "from diffusion_policy.env.pusht.pusht_env import PushTEnv\n",
    "from diffusion_policy.env.pusht.pusht_image_env import PushTImageEnv\n",
    "\n",
    "import gym\n",
    "from gym import spaces\n",
    "\n",
    "import collections\n",
    "import numpy as np\n",
    "import pygame\n",
    "import pymunk\n",
    "import pymunk.pygame_util\n",
    "from pymunk.vec2d import Vec2d\n",
    "import shapely.geometry as sg\n",
    "import cv2\n",
    "import skimage.transform as st\n",
    "from diffusion_policy.env.pusht.pymunk_override import DrawOptions"
   ]
  },
  {
   "cell_type": "code",
   "execution_count": 10,
   "id": "3ade0426-686f-49c4-b85f-71a7a508024d",
   "metadata": {},
   "outputs": [],
   "source": [
    "class PushHEnv(PushTEnv):\n",
    "    def __init__(self, *args, **kwargs):\n",
    "        super().__init__(*args, **kwargs)\n",
    "\n",
    "    def add_tee(self, position, angle, scale=30, color='LightSlateGray', mask=pymunk.ShapeFilter.ALL_MASKS()):\n",
    "        mass = 1\n",
    "        length = 4\n",
    "        vertices1 = [(-length*scale/2, scale),\n",
    "                                 ( length*scale/2, scale),\n",
    "                                 ( length*scale/2, 0),\n",
    "                                 (-length*scale/2, 0)]\n",
    "        inertia1 = pymunk.moment_for_poly(mass, vertices=vertices1)\n",
    "        vertices2 = [(-scale/2, scale),\n",
    "                                 (-scale/2, length*scale * 0.75),\n",
    "                                 ( scale/2, length*scale * 0.75),\n",
    "                                 ( scale/2, scale)]\n",
    "        inertia2 = pymunk.moment_for_poly(mass, vertices=vertices2)\n",
    "\n",
    "        vertices3 = [(-length*scale/2, scale * length),\n",
    "                                 (-length*scale/2, length*scale * 0.75),\n",
    "                                 ( length*scale/2, length*scale * 0.75),\n",
    "                                 ( length*scale/2, scale * length)]\n",
    "        inertia3 = pymunk.moment_for_poly(mass, vertices=vertices3)\n",
    "        \n",
    "        body = pymunk.Body(mass, inertia1 + inertia2 + inertia3)\n",
    "        shape1 = pymunk.Poly(body, vertices1)\n",
    "        shape2 = pymunk.Poly(body, vertices2)\n",
    "        shape3 = pymunk.Poly(body, vertices3)\n",
    "        shape1.color = pygame.Color('LightSlateGray')\n",
    "        shape2.color = pygame.Color('LightSlateBlue')\n",
    "        shape3.color = pygame.Color('blue')\n",
    "        shape1.filter = pymunk.ShapeFilter(mask=mask)\n",
    "        shape2.filter = pymunk.ShapeFilter(mask=mask)\n",
    "        shape3.filter = pymunk.ShapeFilter(mask=mask)\n",
    "        body.center_of_gravity = (shape1.center_of_gravity + shape2.center_of_gravity + shape3.center_of_gravity) / 3\n",
    "        body.position = position\n",
    "        body.angle = angle\n",
    "        body.friction = 1\n",
    "        self.space.add(body, shape1, shape2, shape3)\n",
    "        return body"
   ]
  },
  {
   "cell_type": "code",
   "execution_count": 12,
   "id": "05209c64-729f-4196-a082-8dfcd247cca6",
   "metadata": {},
   "outputs": [],
   "source": [
    "class PushAEnv(PushTEnv):\n",
    "    def __init__(self, *args, **kwargs):\n",
    "        super().__init__(*args, **kwargs)\n",
    "\n",
    "    def add_tee(self, position, angle, scale=30, color='LightSlateGray', mask=pymunk.ShapeFilter.ALL_MASKS()):\n",
    "        mass = 1\n",
    "        length = 4\n",
    "        vertices1 = [(-scale/2, scale),\n",
    "                     (-scale/2, length*scale),\n",
    "                     (scale/2, length*scale),\n",
    "                     (scale/2, scale)]\n",
    "        inertia1 = pymunk.moment_for_poly(mass, vertices=vertices1)\n",
    "    \n",
    "        vertices2 = [(scale/2, scale),\n",
    "                     (scale/2, length*scale),\n",
    "                     (-scale/2, length*scale),\n",
    "                     (-scale/2, scale)]\n",
    "        inertia2 = pymunk.moment_for_poly(mass, vertices=vertices2)\n",
    "    \n",
    "        crossbar_length = length * 0.6  # 가운데 가로막대의 길이\n",
    "        vertices3 = [(-crossbar_length*scale/2, scale * 2),\n",
    "                     (crossbar_length*scale/2, scale * 2),\n",
    "                     (crossbar_length*scale/2, scale * 1.5),\n",
    "                     (-crossbar_length*scale/2, scale * 1.5)]\n",
    "        inertia3 = pymunk.moment_for_poly(mass, vertices=vertices3)\n",
    "    \n",
    "        body = pymunk.Body(mass, inertia1 + inertia2 + inertia3)\n",
    "        shape1 = pymunk.Poly(body, vertices1)\n",
    "        shape2 = pymunk.Poly(body, vertices2)\n",
    "        shape3 = pymunk.Poly(body, vertices3)\n",
    "    \n",
    "        shape1.color = pygame.Color(color)\n",
    "        shape2.color = pygame.Color(color)\n",
    "        shape3.color = pygame.Color(color)\n",
    "    \n",
    "        shape1.filter = pymunk.ShapeFilter(mask=mask)\n",
    "        shape2.filter = pymunk.ShapeFilter(mask=mask)\n",
    "        shape3.filter = pymunk.ShapeFilter(mask=mask)\n",
    "    \n",
    "        body.center_of_gravity = (shape1.center_of_gravity + shape2.center_of_gravity + shape3.center_of_gravity) / 3\n",
    "        body.position = position\n",
    "        body.angle = angle\n",
    "        body.friction = 1\n",
    "    \n",
    "        self.space.add(body, shape1, shape2, shape3)\n",
    "        return body\n"
   ]
  },
  {
   "cell_type": "code",
   "execution_count": 13,
   "id": "ef8bb8da-9c36-4578-bcd3-f6ca807fbea1",
   "metadata": {},
   "outputs": [],
   "source": [
    "env = PushAEnv()\n",
    "# env = PushTEnv()"
   ]
  },
  {
   "cell_type": "code",
   "execution_count": 14,
   "id": "671e104f-17ce-4d88-8bcd-6b5bd2fdac69",
   "metadata": {},
   "outputs": [
    {
     "name": "stderr",
     "output_type": "stream",
     "text": [
      "ERROR:shapely.geos:7359312880718 277.21320343559643\n"
     ]
    },
    {
     "ename": "TopologicalError",
     "evalue": "The operation 'GEOSIntersection_r' could not be performed. Likely cause is invalidity of the geometry <shapely.geometry.multipolygon.MultiPolygon object at 0x167e10220>",
     "output_type": "error",
     "traceback": [
      "\u001b[0;31m---------------------------------------------------------------------------\u001b[0m",
      "\u001b[0;31mTopologicalError\u001b[0m                          Traceback (most recent call last)",
      "Cell \u001b[0;32mIn[14], line 15\u001b[0m\n\u001b[1;32m     12\u001b[0m display\u001b[38;5;241m.\u001b[39mclear_output(wait\u001b[38;5;241m=\u001b[39m\u001b[38;5;28;01mTrue\u001b[39;00m)\n\u001b[1;32m     13\u001b[0m action \u001b[38;5;241m=\u001b[39m env\u001b[38;5;241m.\u001b[39maction_space\u001b[38;5;241m.\u001b[39msample()\n\u001b[0;32m---> 15\u001b[0m next_observation, reward, terminated, info \u001b[38;5;241m=\u001b[39m \u001b[43menv\u001b[49m\u001b[38;5;241;43m.\u001b[39;49m\u001b[43mstep\u001b[49m\u001b[43m(\u001b[49m\u001b[43maction\u001b[49m\u001b[43m)\u001b[49m\n\u001b[1;32m     16\u001b[0m episode_reward \u001b[38;5;241m+\u001b[39m\u001b[38;5;241m=\u001b[39m reward\n\u001b[1;32m     18\u001b[0m done \u001b[38;5;241m=\u001b[39m terminated\n",
      "File \u001b[0;32m~/Desktop/projects/diffusion_policy/jupyters/../diffusion_policy/env/pusht/pusht_env.py:129\u001b[0m, in \u001b[0;36mPushTEnv.step\u001b[0;34m(self, action)\u001b[0m\n\u001b[1;32m    126\u001b[0m goal_geom \u001b[38;5;241m=\u001b[39m pymunk_to_shapely(goal_body, \u001b[38;5;28mself\u001b[39m\u001b[38;5;241m.\u001b[39mblock\u001b[38;5;241m.\u001b[39mshapes)\n\u001b[1;32m    127\u001b[0m block_geom \u001b[38;5;241m=\u001b[39m pymunk_to_shapely(\u001b[38;5;28mself\u001b[39m\u001b[38;5;241m.\u001b[39mblock, \u001b[38;5;28mself\u001b[39m\u001b[38;5;241m.\u001b[39mblock\u001b[38;5;241m.\u001b[39mshapes)\n\u001b[0;32m--> 129\u001b[0m intersection_area \u001b[38;5;241m=\u001b[39m \u001b[43mgoal_geom\u001b[49m\u001b[38;5;241;43m.\u001b[39;49m\u001b[43mintersection\u001b[49m\u001b[43m(\u001b[49m\u001b[43mblock_geom\u001b[49m\u001b[43m)\u001b[49m\u001b[38;5;241m.\u001b[39marea\n\u001b[1;32m    130\u001b[0m goal_area \u001b[38;5;241m=\u001b[39m goal_geom\u001b[38;5;241m.\u001b[39marea\n\u001b[1;32m    131\u001b[0m coverage \u001b[38;5;241m=\u001b[39m intersection_area \u001b[38;5;241m/\u001b[39m goal_area\n",
      "File \u001b[0;32m/opt/anaconda3/envs/robodiff/lib/python3.9/site-packages/shapely/geometry/base.py:693\u001b[0m, in \u001b[0;36mBaseGeometry.intersection\u001b[0;34m(self, other)\u001b[0m\n\u001b[1;32m    691\u001b[0m \u001b[38;5;28;01mdef\u001b[39;00m \u001b[38;5;21mintersection\u001b[39m(\u001b[38;5;28mself\u001b[39m, other):\n\u001b[1;32m    692\u001b[0m \u001b[38;5;250m    \u001b[39m\u001b[38;5;124;03m\"\"\"Returns the intersection of the geometries\"\"\"\u001b[39;00m\n\u001b[0;32m--> 693\u001b[0m     \u001b[38;5;28;01mreturn\u001b[39;00m geom_factory(\u001b[38;5;28;43mself\u001b[39;49m\u001b[38;5;241;43m.\u001b[39;49m\u001b[43mimpl\u001b[49m\u001b[43m[\u001b[49m\u001b[38;5;124;43m'\u001b[39;49m\u001b[38;5;124;43mintersection\u001b[39;49m\u001b[38;5;124;43m'\u001b[39;49m\u001b[43m]\u001b[49m\u001b[43m(\u001b[49m\u001b[38;5;28;43mself\u001b[39;49m\u001b[43m,\u001b[49m\u001b[43m \u001b[49m\u001b[43mother\u001b[49m\u001b[43m)\u001b[49m)\n",
      "File \u001b[0;32m/opt/anaconda3/envs/robodiff/lib/python3.9/site-packages/shapely/topology.py:73\u001b[0m, in \u001b[0;36mBinaryTopologicalOp.__call__\u001b[0;34m(self, this, other, *args)\u001b[0m\n\u001b[1;32m     70\u001b[0m \u001b[38;5;28;01mif\u001b[39;00m product \u001b[38;5;129;01mis\u001b[39;00m \u001b[38;5;28;01mNone\u001b[39;00m:\n\u001b[1;32m     71\u001b[0m     err \u001b[38;5;241m=\u001b[39m TopologicalError(\n\u001b[1;32m     72\u001b[0m             \u001b[38;5;124m\"\u001b[39m\u001b[38;5;124mThis operation could not be performed. Reason: unknown\u001b[39m\u001b[38;5;124m\"\u001b[39m)\n\u001b[0;32m---> 73\u001b[0m     \u001b[38;5;28;43mself\u001b[39;49m\u001b[38;5;241;43m.\u001b[39;49m\u001b[43m_check_topology\u001b[49m\u001b[43m(\u001b[49m\u001b[43merr\u001b[49m\u001b[43m,\u001b[49m\u001b[43m \u001b[49m\u001b[43mthis\u001b[49m\u001b[43m,\u001b[49m\u001b[43m \u001b[49m\u001b[43mother\u001b[49m\u001b[43m)\u001b[49m\n\u001b[1;32m     74\u001b[0m \u001b[38;5;28;01mreturn\u001b[39;00m product\n",
      "File \u001b[0;32m/opt/anaconda3/envs/robodiff/lib/python3.9/site-packages/shapely/topology.py:38\u001b[0m, in \u001b[0;36mDelegating._check_topology\u001b[0;34m(self, err, *geoms)\u001b[0m\n\u001b[1;32m     36\u001b[0m \u001b[38;5;28;01mfor\u001b[39;00m geom \u001b[38;5;129;01min\u001b[39;00m geoms:\n\u001b[1;32m     37\u001b[0m     \u001b[38;5;28;01mif\u001b[39;00m \u001b[38;5;129;01mnot\u001b[39;00m geom\u001b[38;5;241m.\u001b[39mis_valid:\n\u001b[0;32m---> 38\u001b[0m         \u001b[38;5;28;01mraise\u001b[39;00m TopologicalError(\n\u001b[1;32m     39\u001b[0m             \u001b[38;5;124m\"\u001b[39m\u001b[38;5;124mThe operation \u001b[39m\u001b[38;5;124m'\u001b[39m\u001b[38;5;132;01m%s\u001b[39;00m\u001b[38;5;124m'\u001b[39m\u001b[38;5;124m could not be performed. \u001b[39m\u001b[38;5;124m\"\u001b[39m\n\u001b[1;32m     40\u001b[0m             \u001b[38;5;124m\"\u001b[39m\u001b[38;5;124mLikely cause is invalidity of the geometry \u001b[39m\u001b[38;5;132;01m%s\u001b[39;00m\u001b[38;5;124m\"\u001b[39m \u001b[38;5;241m%\u001b[39m (\n\u001b[1;32m     41\u001b[0m                 \u001b[38;5;28mself\u001b[39m\u001b[38;5;241m.\u001b[39mfn\u001b[38;5;241m.\u001b[39m\u001b[38;5;18m__name__\u001b[39m, \u001b[38;5;28mrepr\u001b[39m(geom)))\n\u001b[1;32m     42\u001b[0m \u001b[38;5;28;01mraise\u001b[39;00m err\n",
      "\u001b[0;31mTopologicalError\u001b[0m: The operation 'GEOSIntersection_r' could not be performed. Likely cause is invalidity of the geometry <shapely.geometry.multipolygon.MultiPolygon object at 0x167e10220>"
     ]
    },
    {
     "data": {
      "image/png": "[encoded data removed]",
      "text/plain": [
       "<Figure size 640x480 with 1 Axes>"
      ]
     },
     "metadata": {},
     "output_type": "display_data"
    }
   ],
   "source": [
    "mode='rgb_array'\n",
    "\n",
    "# observation, _ = env.reset()\n",
    "observation = env.reset()\n",
    "img = plt.imshow(env.render(mode))\n",
    "episode_reward = 0\n",
    "episode_steps = 0\n",
    "done = False\n",
    "while not done:\n",
    "    img.set_data(env.render(mode))\n",
    "    display.display(plt.gcf())\n",
    "    display.clear_output(wait=True)\n",
    "    action = env.action_space.sample()\n",
    "\n",
    "    next_observation, reward, terminated, info = env.step(action)\n",
    "    episode_reward += reward\n",
    "\n",
    "    done = terminated\n",
    "    episode_steps += 1\n",
    "    observation = next_observation\n",
    "print(episode_reward)"
   ]
  },
  {
   "cell_type": "code",
   "execution_count": null,
   "id": "ab961aab-4782-4eae-9781-ddfeb23aa113",
   "metadata": {},
   "outputs": [],
   "source": []
  },
  {
   "cell_type": "code",
   "execution_count": null,
   "id": "5db11ce3-bdca-4a32-9178-a66f527270be",
   "metadata": {},
   "outputs": [],
   "source": []
  }
 ],
 "metadata": {
  "kernelspec": {
   "display_name": "Python 3 (ipykernel)",
   "language": "python",
   "name": "python3"
  },
  "language_info": {
   "codemirror_mode": {
    "name": "ipython",
    "version": 3
   },
   "file_extension": ".py",
   "mimetype": "text/x-python",
   "name": "python",
   "nbconvert_exporter": "python",
   "pygments_lexer": "ipython3",
   "version": "3.9.19"
  }
 },
 "nbformat": 4,
 "nbformat_minor": 5
}
