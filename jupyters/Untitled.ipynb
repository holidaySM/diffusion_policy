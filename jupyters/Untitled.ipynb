{
 "cells": [
  {
   "cell_type": "code",
   "execution_count": 25,
   "id": "3b643c6f-44bc-4baf-95f2-e6cf909200a8",
   "metadata": {},
   "outputs": [
    {
     "name": "stdout",
     "output_type": "stream",
     "text": [
      "The autoreload extension is already loaded. To reload it, use:\n",
      "  %reload_ext autoreload\n"
     ]
    }
   ],
   "source": [
    "import sys\n",
    "sys.path.append('..')\n",
    "\n",
    "%load_ext autoreload\n",
    "%autoreload 2\n",
    "\n",
    "import torch\n",
    "import numpy as np\n",
    "\n",
    "from IPython import display\n",
    "import matplotlib\n",
    "import matplotlib.pyplot as plt\n",
    "\n",
    "from diffusion_policy.env.pusht.pusht_env import PushTEnv\n",
    "from diffusion_policy.env.pusht.pusht_image_env import PushTImageEnv\n",
    "from diffusion_policy.env.pusht.pusht_keypoints_env import PushTKeypointsEnv\n",
    "from diffusion_policy.policy.diffusion_unet_hybrid_image_policy import DiffusionUnetHybridImagePolicy\n",
    "from diffusion_policy.common.replay_buffer import ReplayBuffer\n",
    "\n",
    "import hydra\n",
    "from omegaconf import DictConfig, OmegaConf\n",
    "from hydra import initialize, compose"
   ]
  },
  {
   "cell_type": "code",
   "execution_count": 2,
   "id": "9a9eb5e0-77f7-439c-b7ba-2c5d57541461",
   "metadata": {},
   "outputs": [],
   "source": [
    "zarr_path = '../data/pusht/pusht_cchi_v7_replay.zarr'\n",
    "replay_buffer = ReplayBuffer.create_from_path(zarr_path)"
   ]
  },
  {
   "cell_type": "code",
   "execution_count": 5,
   "id": "bc769aa0-c8ef-48c1-828b-6a367f12ae92",
   "metadata": {},
   "outputs": [
    {
     "name": "stdout",
     "output_type": "stream",
     "text": [
      "n_episodes: 206\n",
      "episode lengths: [161 118 141 159 159 157  69 169  80 134 188 149 140 125 107 153 126 102\n",
      "  86  75 142 115 109 110  98 133 158 112 107 115  84  95 148 120 142 143\n",
      " 142 121 186  99 139  73 136 118 127 152  83 109 138  83  69  73 136 173\n",
      " 205 106 105  83 118 122  60 150  67 140 103 166  67 104  90 150 186 134\n",
      " 148 112 118  98  89 122 176  70 117 113  94 139  80 111 104 115  81 138\n",
      " 109 101  78  64  67 107 190 111  68  82 117  92 114 141 137  75 126 197\n",
      " 112 145 131  98  71 149 165  97 178 116 102 121  65 137 119 205 148 159\n",
      " 171 141  96 156 152 183 155 131 123 103 125  92 186 105 112 186 122 146\n",
      " 133 167 103 162  78 137 113 152 154  97  99  94  90 114 105  94 147 137\n",
      " 161  76 126 193 105 140  85 134 130 115  78 131 246 146  89 127 148 155\n",
      " 170 107  56 139 229  64  92 145 105 160 204 159 185 125  95 100 105 167\n",
      " 125 153 167  92 167 150 133  49]\n"
     ]
    }
   ],
   "source": [
    "print(f'n_episodes: {replay_buffer.n_episodes}')\n",
    "print(f'episode lengths: {replay_buffer.episode_lengths}')"
   ]
  },
  {
   "cell_type": "code",
   "execution_count": 8,
   "id": "ea12a866-3788-4575-91d4-4b0e3e324cad",
   "metadata": {},
   "outputs": [
    {
     "name": "stdout",
     "output_type": "stream",
     "text": [
      "['action', 'img', 'keypoint', 'n_contacts', 'state']\n"
     ]
    }
   ],
   "source": [
    "episode = replay_buffer.get_episode(0)\n",
    "print(list(episode.keys()))"
   ]
  },
  {
   "cell_type": "code",
   "execution_count": 19,
   "id": "47357002-cec2-45c6-9bf3-f7641de3e919",
   "metadata": {},
   "outputs": [
    {
     "data": {
      "text/plain": [
       "array([222.       ,  97.       , 222.99382  , 381.59903  ,   3.0079994],\n",
       "      dtype=float32)"
      ]
     },
     "execution_count": 19,
     "metadata": {},
     "output_type": "execute_result"
    }
   ],
   "source": [
    "episode['state'][0]"
   ]
  },
  {
   "cell_type": "code",
   "execution_count": 21,
   "id": "72097c47-0abe-4537-ba5b-aa1df93bab48",
   "metadata": {},
   "outputs": [
    {
     "data": {
      "text/plain": [
       "(9, 2)"
      ]
     },
     "execution_count": 21,
     "metadata": {},
     "output_type": "execute_result"
    }
   ],
   "source": [
    "episode['keypoint'][0]"
   ]
  },
  {
   "cell_type": "code",
   "execution_count": 26,
   "id": "2aa48d15-9a1f-466f-8602-c3c44145c82d",
   "metadata": {},
   "outputs": [],
   "source": [
    "kp_kwargs = PushTKeypointsEnv.genenerate_keypoint_manager_params()\n",
    "env = PushTKeypointsEnv(render_size=96, render_action=False, **kp_kwargs)\n",
    "obs = env.reset()"
   ]
  },
  {
   "cell_type": "code",
   "execution_count": 32,
   "id": "fe282f71-32ea-42f3-a5ee-8e8c99248c60",
   "metadata": {},
   "outputs": [
    {
     "data": {
      "text/plain": [
       "array([351.59633205,  65.75871506, 331.00248958, 179.04555414,\n",
       "       249.13047878,  88.73660148, 310.13481428, 116.07638241,\n",
       "       391.55890998,  61.10103133, 289.23306108,  82.03235778,\n",
       "       342.07883865, 140.71342139, 348.92369084, 103.34053494,\n",
       "       273.95628901, 116.67200895, 175.        , 252.        ,\n",
       "         1.        ,   1.        ,   1.        ,   1.        ,\n",
       "         1.        ,   1.        ,   1.        ,   1.        ,\n",
       "         1.        ,   1.        ,   1.        ,   1.        ,\n",
       "         1.        ,   1.        ,   1.        ,   1.        ,\n",
       "         1.        ,   1.        ,   1.        ,   1.        ])"
      ]
     },
     "execution_count": 32,
     "metadata": {},
     "output_type": "execute_result"
    }
   ],
   "source": [
    "obs"
   ]
  },
  {
   "cell_type": "code",
   "execution_count": null,
   "id": "1c12d383-0157-4f2a-adff-aceb5f059af7",
   "metadata": {},
   "outputs": [],
   "source": []
  }
 ],
 "metadata": {
  "kernelspec": {
   "display_name": "Python 3 (ipykernel)",
   "language": "python",
   "name": "python3"
  },
  "language_info": {
   "codemirror_mode": {
    "name": "ipython",
    "version": 3
   },
   "file_extension": ".py",
   "mimetype": "text/x-python",
   "name": "python",
   "nbconvert_exporter": "python",
   "pygments_lexer": "ipython3",
   "version": "3.9.19"
  }
 },
 "nbformat": 4,
 "nbformat_minor": 5
}
